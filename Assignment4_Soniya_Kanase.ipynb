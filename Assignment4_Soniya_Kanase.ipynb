{
  "nbformat": 4,
  "nbformat_minor": 0,
  "metadata": {
    "colab": {
      "name": "Assignment4_Soniya_Kanase",
      "provenance": [],
      "collapsed_sections": []
    },
    "kernelspec": {
      "name": "python3",
      "display_name": "Python 3"
    },
    "language_info": {
      "name": "python"
    },
    "accelerator": "GPU"
  },
  "cells": [
    {
      "cell_type": "code",
      "metadata": {
        "id": "Kwvebeh8nv3g"
      },
      "source": [
        "# Question 2: the LSTM RNN approach"
      ],
      "execution_count": 1,
      "outputs": []
    },
    {
      "cell_type": "code",
      "metadata": {
        "colab": {
          "base_uri": "https://localhost:8080/"
        },
        "id": "tAQO-yJtn-1O",
        "outputId": "ae95dc04-afa3-462b-c65e-3acab7500492"
      },
      "source": [
        "# TensorFlow and tf.keras\n",
        "import tensorflow as tf\n",
        "import numpy as np\n",
        "import matplotlib.pyplot as plot\n",
        "from keras.models import Model\n",
        "from keras.layers import Input, Dense\n",
        "from keras.layers import LSTM\n",
        "from tensorflow.keras.optimizers import Adam \n",
        "print(tf.__version__)"
      ],
      "execution_count": 2,
      "outputs": [
        {
          "output_type": "stream",
          "name": "stdout",
          "text": [
            "2.7.0\n"
          ]
        }
      ]
    },
    {
      "cell_type": "code",
      "metadata": {
        "id": "I3v9D86KoVg-",
        "colab": {
          "base_uri": "https://localhost:8080/"
        },
        "outputId": "5876d1d2-a762-4bca-e9b0-2ff0a4e53c1f"
      },
      "source": [
        "fashion_mnist = tf.keras.datasets.fashion_mnist\n",
        "\n",
        "(train_images, train_labels), (test_images, test_labels) = fashion_mnist.load_data()"
      ],
      "execution_count": 3,
      "outputs": [
        {
          "output_type": "stream",
          "name": "stdout",
          "text": [
            "Downloading data from https://storage.googleapis.com/tensorflow/tf-keras-datasets/train-labels-idx1-ubyte.gz\n",
            "32768/29515 [=================================] - 0s 0us/step\n",
            "40960/29515 [=========================================] - 0s 0us/step\n",
            "Downloading data from https://storage.googleapis.com/tensorflow/tf-keras-datasets/train-images-idx3-ubyte.gz\n",
            "26427392/26421880 [==============================] - 0s 0us/step\n",
            "26435584/26421880 [==============================] - 0s 0us/step\n",
            "Downloading data from https://storage.googleapis.com/tensorflow/tf-keras-datasets/t10k-labels-idx1-ubyte.gz\n",
            "16384/5148 [===============================================================================================] - 0s 0us/step\n",
            "Downloading data from https://storage.googleapis.com/tensorflow/tf-keras-datasets/t10k-images-idx3-ubyte.gz\n",
            "4423680/4422102 [==============================] - 0s 0us/step\n",
            "4431872/4422102 [==============================] - 0s 0us/step\n"
          ]
        }
      ]
    },
    {
      "cell_type": "code",
      "metadata": {
        "id": "CgfpfRRgoVj9"
      },
      "source": [
        "class_names = ['T-shirt/top', 'Trouser', 'Pullover', 'Dress', 'Coat',\n",
        "               'Sandal', 'Shirt', 'Sneaker', 'Bag', 'Ankle boot']"
      ],
      "execution_count": 4,
      "outputs": []
    },
    {
      "cell_type": "code",
      "metadata": {
        "colab": {
          "base_uri": "https://localhost:8080/"
        },
        "id": "gH2zuR57oVnJ",
        "outputId": "519c9731-0639-47ea-b755-2534050bd53e"
      },
      "source": [
        "train_images.shape"
      ],
      "execution_count": 5,
      "outputs": [
        {
          "output_type": "execute_result",
          "data": {
            "text/plain": [
              "(60000, 28, 28)"
            ]
          },
          "metadata": {},
          "execution_count": 5
        }
      ]
    },
    {
      "cell_type": "code",
      "metadata": {
        "colab": {
          "base_uri": "https://localhost:8080/"
        },
        "id": "GsHLDvGxoVqa",
        "outputId": "5e4b8a48-d961-4d4c-830a-6545d35392ee"
      },
      "source": [
        "train_len=len(train_labels)\n",
        "print('length of train dataset is',train_len)"
      ],
      "execution_count": 6,
      "outputs": [
        {
          "output_type": "stream",
          "name": "stdout",
          "text": [
            "length of train dataset is 60000\n"
          ]
        }
      ]
    },
    {
      "cell_type": "code",
      "metadata": {
        "colab": {
          "base_uri": "https://localhost:8080/"
        },
        "id": "jq3kcgKRoVtD",
        "outputId": "d2dcf76e-fc05-48bd-9b58-3a3ab8cbc6bc"
      },
      "source": [
        "train_labels\n"
      ],
      "execution_count": 7,
      "outputs": [
        {
          "output_type": "execute_result",
          "data": {
            "text/plain": [
              "array([9, 0, 0, ..., 3, 0, 5], dtype=uint8)"
            ]
          },
          "metadata": {},
          "execution_count": 7
        }
      ]
    },
    {
      "cell_type": "code",
      "metadata": {
        "colab": {
          "base_uri": "https://localhost:8080/"
        },
        "id": "8y83PA8RoVxK",
        "outputId": "445316e0-f5c1-4c93-8075-7ae887a2d263"
      },
      "source": [
        "test_images.shape"
      ],
      "execution_count": 8,
      "outputs": [
        {
          "output_type": "execute_result",
          "data": {
            "text/plain": [
              "(10000, 28, 28)"
            ]
          },
          "metadata": {},
          "execution_count": 8
        }
      ]
    },
    {
      "cell_type": "code",
      "metadata": {
        "colab": {
          "base_uri": "https://localhost:8080/"
        },
        "id": "Qzy0yTB6oV0K",
        "outputId": "4dc46f84-cba1-48e1-c448-0e2a5ad2d28e"
      },
      "source": [
        "test_len=len(test_labels)\n",
        "print('Length of test dataset is',test_len)"
      ],
      "execution_count": 9,
      "outputs": [
        {
          "output_type": "stream",
          "name": "stdout",
          "text": [
            "Length of test dataset is 10000\n"
          ]
        }
      ]
    },
    {
      "cell_type": "code",
      "metadata": {
        "colab": {
          "base_uri": "https://localhost:8080/",
          "height": 265
        },
        "id": "xQeSSs5QoV3C",
        "outputId": "33a083d6-fb53-4888-c022-9f830e9bd37e"
      },
      "source": [
        "plot.figure()\n",
        "plot.imshow(train_images[6])\n",
        "plot.colorbar()\n",
        "plot.grid(False)\n",
        "plot.show()"
      ],
      "execution_count": 10,
      "outputs": [
        {
          "output_type": "display_data",
          "data": {
            "image/png": "[encoded data removed]",
            "text/plain": [
              "<Figure size 432x288 with 2 Axes>"
            ]
          },
          "metadata": {
            "needs_background": "light"
          }
        }
      ]
    },
    {
      "cell_type": "code",
      "metadata": {
        "colab": {
          "base_uri": "https://localhost:8080/",
          "height": 589
        },
        "id": "gcQBs6x2oV6H",
        "outputId": "d10f9b11-abd3-4709-f953-13ebeebd4022"
      },
      "source": [
        "plot.figure(figsize=(10,10))\n",
        "for i in range (25):\n",
        "  plot.subplot(5, 5, i+1)\n",
        "  plot.xticks([])\n",
        "  plot.yticks([])\n",
        "  plot.grid(False)\n",
        "  plot.imshow(train_images[i], cmap=plot.cm.binary)\n",
        "  plot.xlabel(class_names[train_labels[i]])\n",
        "plot.show()"
      ],
      "execution_count": 11,
      "outputs": [
        {
          "output_type": "display_data",
          "data": {
            "image/png": "[encoded data removed]",
            "text/plain": [
              "<Figure size 720x720 with 25 Axes>"
            ]
          },
          "metadata": {}
        }
      ]
    },
    {
      "cell_type": "code",
      "metadata": {
        "id": "1BETi4OKoV9J"
      },
      "source": [
        "batch_size = 64    \n",
        "num_classes = 10\n",
        "epochs = 10\n",
        "row_hidden = 128\n",
        "col_hidden = 128"
      ],
      "execution_count": 12,
      "outputs": []
    },
    {
      "cell_type": "code",
      "metadata": {
        "colab": {
          "base_uri": "https://localhost:8080/"
        },
        "id": "zUIySD8Nn-4b",
        "outputId": "c7aea682-f23f-4f16-918c-37423b7fd1b5"
      },
      "source": [
        "x_train = train_images.reshape(train_images.shape[0], 28, 28, 1)\n",
        "x_train.shape"
      ],
      "execution_count": 13,
      "outputs": [
        {
          "output_type": "execute_result",
          "data": {
            "text/plain": [
              "(60000, 28, 28, 1)"
            ]
          },
          "metadata": {},
          "execution_count": 13
        }
      ]
    },
    {
      "cell_type": "code",
      "metadata": {
        "colab": {
          "base_uri": "https://localhost:8080/"
        },
        "id": "IceDTRBjo4i6",
        "outputId": "f27bddfd-7bbf-4d73-9880-bac848fcd809"
      },
      "source": [
        "row, col, pixel = x_train.shape[1:]\n",
        "print(row)\n",
        "print(col)\n",
        "print(pixel)"
      ],
      "execution_count": 14,
      "outputs": [
        {
          "output_type": "stream",
          "name": "stdout",
          "text": [
            "28\n",
            "28\n",
            "1\n"
          ]
        }
      ]
    },
    {
      "cell_type": "code",
      "metadata": {
        "id": "HNVQTINno4qQ"
      },
      "source": [
        "x = Input(shape=(row, col))\n",
        "encoded_rows = LSTM(row_hidden,)(x)\n",
        "#encoded_columns = LSTM(col_hidden,)(encoded_rows)\n",
        "prediction = Dense(num_classes, activation='softmax')(encoded_rows)\n",
        "#output= Dense(num_classes, activation='softmax')(prediction)\n",
        "model = Model(x, prediction)\n",
        "model.compile( loss=tf.keras.losses.SparseCategoricalCrossentropy(from_logits=True),\n",
        "              optimizer=Adam(learning_rate=0.001),\n",
        "              metrics=['accuracy'])"
      ],
      "execution_count": 15,
      "outputs": []
    },
    {
      "cell_type": "code",
      "metadata": {
        "colab": {
          "base_uri": "https://localhost:8080/"
        },
        "id": "TU4IG3J9o4tM",
        "outputId": "29532b64-53bd-4b1a-a2c4-a667deac3812"
      },
      "source": [
        "model.summary()"
      ],
      "execution_count": 16,
      "outputs": [
        {
          "output_type": "stream",
          "name": "stdout",
          "text": [
            "Model: \"model\"\n",
            "_________________________________________________________________\n",
            " Layer (type)                Output Shape              Param #   \n",
            "=================================================================\n",
            " input_1 (InputLayer)        [(None, 28, 28)]          0         \n",
            "                                                                 \n",
            " lstm (LSTM)                 (None, 128)               80384     \n",
            "                                                                 \n",
            " dense (Dense)               (None, 10)                1290      \n",
            "                                                                 \n",
            "=================================================================\n",
            "Total params: 81,674\n",
            "Trainable params: 81,674\n",
            "Non-trainable params: 0\n",
            "_________________________________________________________________\n"
          ]
        }
      ]
    },
    {
      "cell_type": "code",
      "metadata": {
        "colab": {
          "base_uri": "https://localhost:8080/"
        },
        "id": "B4kZW5bJo4wJ",
        "outputId": "da9b6e46-3741-48d4-92e9-c08d5b93f044"
      },
      "source": [
        "model.fit( train_images, train_labels,\n",
        "          batch_size=batch_size,\n",
        "          epochs=epochs,\n",
        "          verbose=1,\n",
        "          validation_data=(test_images, test_labels)\n",
        "          )"
      ],
      "execution_count": 17,
      "outputs": [
        {
          "output_type": "stream",
          "name": "stdout",
          "text": [
            "Epoch 1/10\n"
          ]
        },
        {
          "output_type": "stream",
          "name": "stderr",
          "text": [
            "/usr/local/lib/python3.7/dist-packages/tensorflow/python/util/dispatch.py:1096: UserWarning: \"`sparse_categorical_crossentropy` received `from_logits=True`, but the `output` argument was produced by a sigmoid or softmax activation and thus does not represent logits. Was this intended?\"\n",
            "  return dispatch_target(*args, **kwargs)\n"
          ]
        },
        {
          "output_type": "stream",
          "name": "stdout",
          "text": [
            "938/938 [==============================] - 17s 13ms/step - loss: 0.6634 - accuracy: 0.7650 - val_loss: 0.5332 - val_accuracy: 0.8125\n",
            "Epoch 2/10\n",
            "938/938 [==============================] - 11s 12ms/step - loss: 0.4903 - accuracy: 0.8226 - val_loss: 0.4875 - val_accuracy: 0.8240\n",
            "Epoch 3/10\n",
            "938/938 [==============================] - 11s 12ms/step - loss: 0.4535 - accuracy: 0.8350 - val_loss: 0.4660 - val_accuracy: 0.8295\n",
            "Epoch 4/10\n",
            "938/938 [==============================] - 11s 12ms/step - loss: 0.4387 - accuracy: 0.8396 - val_loss: 0.4615 - val_accuracy: 0.8347\n",
            "Epoch 5/10\n",
            "938/938 [==============================] - 11s 12ms/step - loss: 0.4230 - accuracy: 0.8448 - val_loss: 0.4495 - val_accuracy: 0.8372\n",
            "Epoch 6/10\n",
            "938/938 [==============================] - 12s 12ms/step - loss: 0.4160 - accuracy: 0.8462 - val_loss: 0.4343 - val_accuracy: 0.8414\n",
            "Epoch 7/10\n",
            "938/938 [==============================] - 12s 12ms/step - loss: 0.4073 - accuracy: 0.8498 - val_loss: 0.4343 - val_accuracy: 0.8429\n",
            "Epoch 8/10\n",
            "938/938 [==============================] - 12s 13ms/step - loss: 0.3943 - accuracy: 0.8551 - val_loss: 0.4361 - val_accuracy: 0.8415\n",
            "Epoch 9/10\n",
            "938/938 [==============================] - 11s 12ms/step - loss: 0.3881 - accuracy: 0.8567 - val_loss: 0.4312 - val_accuracy: 0.8418\n",
            "Epoch 10/10\n",
            "938/938 [==============================] - 12s 13ms/step - loss: 0.3891 - accuracy: 0.8560 - val_loss: 0.4260 - val_accuracy: 0.8431\n"
          ]
        },
        {
          "output_type": "execute_result",
          "data": {
            "text/plain": [
              "<keras.callbacks.History at 0x7f0f40036bd0>"
            ]
          },
          "metadata": {},
          "execution_count": 17
        }
      ]
    },
    {
      "cell_type": "code",
      "metadata": {
        "id": "EvzU0Crgo4y_"
      },
      "source": [
        "probability=model.predict(train_images[0:10])"
      ],
      "execution_count": 18,
      "outputs": []
    },
    {
      "cell_type": "code",
      "metadata": {
        "colab": {
          "base_uri": "https://localhost:8080/"
        },
        "id": "reKEZX9xo41g",
        "outputId": "e6f6a1b1-1a0b-4c75-afc9-13f80cdbd5b2"
      },
      "source": [
        "probability[6]  # probability values values for  img"
      ],
      "execution_count": 19,
      "outputs": [
        {
          "output_type": "execute_result",
          "data": {
            "text/plain": [
              "array([3.8336340e-05, 2.5715819e-05, 4.7567078e-06, 9.3544440e-05,\n",
              "       3.9381275e-06, 2.8250171e-03, 2.2621743e-05, 9.9403447e-01,\n",
              "       9.1672900e-06, 2.9424443e-03], dtype=float32)"
            ]
          },
          "metadata": {},
          "execution_count": 19
        }
      ]
    },
    {
      "cell_type": "code",
      "metadata": {
        "colab": {
          "base_uri": "https://localhost:8080/"
        },
        "id": "oOpGXcTNo44f",
        "outputId": "a0c620c2-2edb-491d-c92c-deae65099272"
      },
      "source": [
        "argmax=np.argmax(probability,axis=1)   # array of highest probabilities\n",
        "argmax"
      ],
      "execution_count": 20,
      "outputs": [
        {
          "output_type": "execute_result",
          "data": {
            "text/plain": [
              "array([9, 0, 3, 3, 1, 2, 7, 2, 5, 5])"
            ]
          },
          "metadata": {},
          "execution_count": 20
        }
      ]
    },
    {
      "cell_type": "code",
      "metadata": {
        "colab": {
          "base_uri": "https://localhost:8080/",
          "height": 265
        },
        "id": "OTtNzZHho46d",
        "outputId": "61a7c0cf-5889-40d4-aa08-8cdb4c6c0546"
      },
      "source": [
        "plot.figure()\n",
        "plot.imshow(train_images[6])\n",
        "plot.colorbar()\n",
        "plot.grid(False)\n",
        "plot.show()"
      ],
      "execution_count": 21,
      "outputs": [
        {
          "output_type": "display_data",
          "data": {
            "image/png": "[encoded data removed]",
            "text/plain": [
              "<Figure size 432x288 with 2 Axes>"
            ]
          },
          "metadata": {
            "needs_background": "light"
          }
        }
      ]
    },
    {
      "cell_type": "code",
      "metadata": {
        "colab": {
          "base_uri": "https://localhost:8080/"
        },
        "id": "F-7c6jsno49X",
        "outputId": "4f0ee5bf-fd1b-43b1-b4ca-b26567c4858f"
      },
      "source": [
        "print('Predicted value :' ,class_names[argmax[6]])  # precdiction"
      ],
      "execution_count": 22,
      "outputs": [
        {
          "output_type": "stream",
          "name": "stdout",
          "text": [
            "Predicted value : Sneaker\n"
          ]
        }
      ]
    },
    {
      "cell_type": "code",
      "metadata": {
        "colab": {
          "base_uri": "https://localhost:8080/"
        },
        "id": "hpM_e11oo5Ad",
        "outputId": "53522fa7-a1f1-4ffb-d58b-64aa972b0f42"
      },
      "source": [
        "print('Actual value :' ,class_names[train_labels[6]])  #ground truth"
      ],
      "execution_count": 23,
      "outputs": [
        {
          "output_type": "stream",
          "name": "stdout",
          "text": [
            "Actual value : Sneaker\n"
          ]
        }
      ]
    },
    {
      "cell_type": "code",
      "metadata": {
        "id": "Yc5PfUcko5DV"
      },
      "source": [
        "def plot_image(i, predictions_array, true_label, img):\n",
        "  true_label, img = true_label[i], img[i]\n",
        "  plot.grid(False)\n",
        "  plot.xticks([])\n",
        "  plot.yticks([])\n",
        "\n",
        "  plot.imshow(img, cmap=plot.cm.binary)\n",
        "\n",
        "  predicted_label = np.argmax(predictions_array)\n",
        "  if predicted_label == true_label:\n",
        "    color = 'blue'\n",
        "  else:\n",
        "    color = 'red'\n",
        "\n",
        "  plot.xlabel(\"{} {:2.0f}% ({})\".format(class_names[predicted_label],\n",
        "                                100*np.max(predictions_array),\n",
        "                                class_names[true_label]),\n",
        "                                color=color)\n",
        "\n",
        "def plot_value_array(i, predictions_array, true_label):\n",
        "  true_label = true_label[i]\n",
        "  plot.grid(False)\n",
        "  plot.xticks(range(10))\n",
        "  plot.yticks([])\n",
        "  thisplot = plot.bar(range(10), predictions_array, color=\"#777777\")\n",
        "  plot.ylim([0, 1])\n",
        "  predicted_label = np.argmax(predictions_array)\n",
        "\n",
        "  thisplot[predicted_label].set_color('red')\n",
        "  thisplot[true_label].set_color('blue')"
      ],
      "execution_count": 24,
      "outputs": []
    },
    {
      "cell_type": "code",
      "metadata": {
        "colab": {
          "base_uri": "https://localhost:8080/",
          "height": 211
        },
        "id": "zKXA34Rno5Gr",
        "outputId": "1977a076-8323-4104-acea-3ab217eccb22"
      },
      "source": [
        "i = 0\n",
        "plot.figure(figsize=(6,3))\n",
        "plot.subplot(1,2,1)\n",
        "plot_image(i, probability[i], test_labels, test_images)\n",
        "plot.subplot(1,2,2)\n",
        "plot_value_array(i, probability[i],  test_labels)\n",
        "plot.show()"
      ],
      "execution_count": 25,
      "outputs": [
        {
          "output_type": "display_data",
          "data": {
            "image/png": "[encoded data removed]",
            "text/plain": [
              "<Figure size 432x216 with 2 Axes>"
            ]
          },
          "metadata": {
            "needs_background": "light"
          }
        }
      ]
    },
    {
      "cell_type": "code",
      "metadata": {
        "colab": {
          "base_uri": "https://localhost:8080/",
          "height": 211
        },
        "id": "ZQpTH0Ero5KJ",
        "outputId": "b9810c8b-f18a-491e-9237-c6b8d70393e7"
      },
      "source": [
        "i = 9\n",
        "plot.figure(figsize=(6,3))\n",
        "plot.subplot(1,2,1)\n",
        "plot_image(i, probability[i], test_labels, test_images)\n",
        "plot.subplot(1,2,2)\n",
        "plot_value_array(i, probability[i],  test_labels)\n",
        "plot.show()"
      ],
      "execution_count": 26,
      "outputs": [
        {
          "output_type": "display_data",
          "data": {
            "image/png": "[encoded data removed]",
            "text/plain": [
              "<Figure size 432x216 with 2 Axes>"
            ]
          },
          "metadata": {
            "needs_background": "light"
          }
        }
      ]
    },
    {
      "cell_type": "code",
      "metadata": {
        "colab": {
          "base_uri": "https://localhost:8080/",
          "height": 441
        },
        "id": "FgtqImPin-70",
        "outputId": "1efa5a81-701e-4204-df65-b2c8d5df6b97"
      },
      "source": [
        "# Plot the first X test images, their predicted labels, and the true labels.\n",
        "# Color correct predictions in blue and incorrect predictions in red.\n",
        "num_rows = 3\n",
        "num_cols = 3\n",
        "num_images = num_rows*num_cols\n",
        "plot.figure(figsize=(2*2*num_cols, 2*num_rows))\n",
        "for i in range(num_images):\n",
        "  plot.subplot(num_rows, 2*num_cols, 2*i+1)\n",
        "  plot_image(i, probability[i], test_labels, test_images)\n",
        "  plot.subplot(num_rows, 2*num_cols, 2*i+2)\n",
        "  plot_value_array(i, probability[i], test_labels)\n",
        "plot.tight_layout()\n",
        "plot.show()"
      ],
      "execution_count": 27,
      "outputs": [
        {
          "output_type": "display_data",
          "data": {
            "image/png": "[encoded data removed]",
            "text/plain": [
              "<Figure size 864x432 with 18 Axes>"
            ]
          },
          "metadata": {
            "needs_background": "light"
          }
        }
      ]
    },
    {
      "cell_type": "code",
      "metadata": {
        "id": "VX1D-F4duzJK"
      },
      "source": [
        "#CNN code"
      ],
      "execution_count": 28,
      "outputs": []
    },
    {
      "cell_type": "code",
      "metadata": {
        "id": "dlXJi-oXuzMl"
      },
      "source": [
        "from tensorflow.keras.utils import to_categorical\n",
        "import keras\n",
        "from keras.datasets import fashion_mnist \n",
        "from keras.layers import Dense, Activation, Flatten, Conv2D, MaxPooling2D\n",
        "from keras.models import Sequential\n",
        "import numpy as np\n",
        "import matplotlib.pyplot as plot"
      ],
      "execution_count": 29,
      "outputs": []
    },
    {
      "cell_type": "code",
      "metadata": {
        "id": "n7jBtlOHzkNQ"
      },
      "source": [
        "(train_X,train_Y), (test_X,test_Y) = fashion_mnist.load_data()"
      ],
      "execution_count": 30,
      "outputs": []
    },
    {
      "cell_type": "code",
      "metadata": {
        "id": "mlQbB9ZvzkQY"
      },
      "source": [
        "\n",
        "train_X = train_X.reshape(-1, 28,28, 1)\n",
        "test_X = test_X.reshape(-1, 28,28, 1)"
      ],
      "execution_count": 31,
      "outputs": []
    },
    {
      "cell_type": "code",
      "metadata": {
        "id": "Qc8mB3jMzkT-"
      },
      "source": [
        "\n",
        "train_X = train_X.astype('float32')\n",
        "test_X = test_X.astype('float32')\n",
        "train_X = train_X / 255\n",
        "test_X = test_X / 255"
      ],
      "execution_count": 32,
      "outputs": []
    },
    {
      "cell_type": "code",
      "metadata": {
        "colab": {
          "base_uri": "https://localhost:8080/",
          "height": 1000
        },
        "id": "_u_PaeegzkXM",
        "outputId": "d04122bc-9e71-4e62-8f08-da85ed6ac704"
      },
      "source": [
        "\n",
        "train_Y_one_hot = to_categorical(train_Y)\n",
        "test_Y_one_hot = to_categorical(test_Y)\n",
        "\n",
        "model = Sequential()\n",
        "\n",
        "model.add(Conv2D(64, (3,3), input_shape=(28, 28, 1)))\n",
        "model.add(Activation('relu'))\n",
        "model.add(MaxPooling2D(pool_size=(2,2)))\n",
        "\n",
        "model.add(Conv2D(64, (3,3)))\n",
        "model.add(Activation('relu'))\n",
        "model.add(MaxPooling2D(pool_size=(2,2)))\n",
        "\n",
        "model.add(Flatten())\n",
        "model.add(Dense(64))\n",
        "\n",
        "model.add(Dense(10))\n",
        "model.add(Activation('softmax'))\n",
        "\n",
        "model.compile(loss=keras.losses.categorical_crossentropy, optimizer='Adam',metrics=['accuracy'])\n",
        "model.summary()\n",
        "\n",
        "model.fit(train_X, train_Y_one_hot, batch_size=64, epochs=10)\n",
        "\n",
        "test_loss, test_acc = model.evaluate(test_X, test_Y_one_hot)\n",
        "print('Test loss', test_loss)\n",
        "print('Test accuracy', test_acc)\n",
        "\n",
        "predictions = model.predict(test_X)\n",
        "print(np.argmax(np.round(predictions[0])))\n",
        "\n",
        "plot.imshow(test_X[0].reshape(28, 28), cmap = plot.cm.binary)\n",
        "plot.show()"
      ],
      "execution_count": 33,
      "outputs": [
        {
          "output_type": "stream",
          "name": "stdout",
          "text": [
            "Model: \"sequential\"\n",
            "_________________________________________________________________\n",
            " Layer (type)                Output Shape              Param #   \n",
            "=================================================================\n",
            " conv2d (Conv2D)             (None, 26, 26, 64)        640       \n",
            "                                                                 \n",
            " activation (Activation)     (None, 26, 26, 64)        0         \n",
            "                                                                 \n",
            " max_pooling2d (MaxPooling2D  (None, 13, 13, 64)       0         \n",
            " )                                                               \n",
            "                                                                 \n",
            " conv2d_1 (Conv2D)           (None, 11, 11, 64)        36928     \n",
            "                                                                 \n",
            " activation_1 (Activation)   (None, 11, 11, 64)        0         \n",
            "                                                                 \n",
            " max_pooling2d_1 (MaxPooling  (None, 5, 5, 64)         0         \n",
            " 2D)                                                             \n",
            "                                                                 \n",
            " flatten (Flatten)           (None, 1600)              0         \n",
            "                                                                 \n",
            " dense_1 (Dense)             (None, 64)                102464    \n",
            "                                                                 \n",
            " dense_2 (Dense)             (None, 10)                650       \n",
            "                                                                 \n",
            " activation_2 (Activation)   (None, 10)                0         \n",
            "                                                                 \n",
            "=================================================================\n",
            "Total params: 140,682\n",
            "Trainable params: 140,682\n",
            "Non-trainable params: 0\n",
            "_________________________________________________________________\n",
            "Epoch 1/10\n",
            "938/938 [==============================] - 16s 10ms/step - loss: 0.4679 - accuracy: 0.8303\n",
            "Epoch 2/10\n",
            "938/938 [==============================] - 9s 10ms/step - loss: 0.3180 - accuracy: 0.8858\n",
            "Epoch 3/10\n",
            "938/938 [==============================] - 9s 9ms/step - loss: 0.2774 - accuracy: 0.8983\n",
            "Epoch 4/10\n",
            "938/938 [==============================] - 9s 9ms/step - loss: 0.2522 - accuracy: 0.9076\n",
            "Epoch 5/10\n",
            "938/938 [==============================] - 9s 9ms/step - loss: 0.2308 - accuracy: 0.9152\n",
            "Epoch 6/10\n",
            "938/938 [==============================] - 9s 9ms/step - loss: 0.2124 - accuracy: 0.9222\n",
            "Epoch 7/10\n",
            "938/938 [==============================] - 9s 9ms/step - loss: 0.1986 - accuracy: 0.9269\n",
            "Epoch 8/10\n",
            "938/938 [==============================] - 9s 9ms/step - loss: 0.1869 - accuracy: 0.9307\n",
            "Epoch 9/10\n",
            "938/938 [==============================] - 9s 9ms/step - loss: 0.1729 - accuracy: 0.9370\n",
            "Epoch 10/10\n",
            "938/938 [==============================] - 9s 9ms/step - loss: 0.1665 - accuracy: 0.9376\n",
            "313/313 [==============================] - 2s 5ms/step - loss: 0.3374 - accuracy: 0.8888\n",
            "Test loss 0.33743900060653687\n",
            "Test accuracy 0.8888000249862671\n",
            "9\n"
          ]
        },
        {
          "output_type": "display_data",
          "data": {
            "image/png": "[encoded data removed]",
            "text/plain": [
              "<Figure size 432x288 with 1 Axes>"
            ]
          },
          "metadata": {
            "needs_background": "light"
          }
        }
      ]
    },
    {
      "cell_type": "code",
      "metadata": {
        "id": "TvGtBSNJ65wb"
      },
      "source": [
        "#CNN Code implementation"
      ],
      "execution_count": 34,
      "outputs": []
    },
    {
      "cell_type": "code",
      "metadata": {
        "id": "I1drIrzBu1wS"
      },
      "source": [
        "batch_size = 64    \n",
        "num_classes = 10\n",
        "epochs = 10\n",
        "row_hidden = 128\n",
        "col_hidden = 128"
      ],
      "execution_count": 35,
      "outputs": []
    },
    {
      "cell_type": "code",
      "metadata": {
        "colab": {
          "base_uri": "https://localhost:8080/"
        },
        "id": "zceT0mkdn_GE",
        "outputId": "477b9e08-6ed6-4c21-b61a-287878296c60"
      },
      "source": [
        "model = tf.keras.Sequential()\n",
        "model.add(tf.keras.layers.Conv2D(64, (3, 3), activation='relu', input_shape=(28, 28, 1)))\n",
        "model.add(tf.keras.layers.MaxPooling2D((2, 2)))\n",
        "model.add(tf.keras.layers.Conv2D(64, (3, 3), activation='relu' ))\n",
        "model.add(tf.keras.layers.MaxPooling2D((2, 2)))\n",
        "\n",
        "model.add(tf.keras.layers.Flatten())\n",
        "#model.add(tf.keras.layers.Dense(100, activation='relu', kernel_initializer='he_uniform'))\n",
        "model.add(Dense(64))\n",
        "\n",
        "model.add(Dense(10, activation='softmax'))\n",
        "\n",
        "opt = tf.keras.optimizers.Adam(learning_rate=0.01)\n",
        "\n",
        "model.compile(optimizer=opt, loss='sparse_categorical_crossentropy', metrics=['accuracy'])\n",
        "model.summary()"
      ],
      "execution_count": 36,
      "outputs": [
        {
          "output_type": "stream",
          "name": "stdout",
          "text": [
            "Model: \"sequential_1\"\n",
            "_________________________________________________________________\n",
            " Layer (type)                Output Shape              Param #   \n",
            "=================================================================\n",
            " conv2d_2 (Conv2D)           (None, 26, 26, 64)        640       \n",
            "                                                                 \n",
            " max_pooling2d_2 (MaxPooling  (None, 13, 13, 64)       0         \n",
            " 2D)                                                             \n",
            "                                                                 \n",
            " conv2d_3 (Conv2D)           (None, 11, 11, 64)        36928     \n",
            "                                                                 \n",
            " max_pooling2d_3 (MaxPooling  (None, 5, 5, 64)         0         \n",
            " 2D)                                                             \n",
            "                                                                 \n",
            " flatten_1 (Flatten)         (None, 1600)              0         \n",
            "                                                                 \n",
            " dense_3 (Dense)             (None, 64)                102464    \n",
            "                                                                 \n",
            " dense_4 (Dense)             (None, 10)                650       \n",
            "                                                                 \n",
            "=================================================================\n",
            "Total params: 140,682\n",
            "Trainable params: 140,682\n",
            "Non-trainable params: 0\n",
            "_________________________________________________________________\n"
          ]
        }
      ]
    },
    {
      "cell_type": "code",
      "metadata": {
        "colab": {
          "base_uri": "https://localhost:8080/"
        },
        "id": "oGTXMQmgn_Jj",
        "outputId": "5b05b8d6-2900-4417-abe9-62da8a8b7437"
      },
      "source": [
        "model.fit( train_images, train_labels,\n",
        "          batch_size=batch_size,\n",
        "          epochs=epochs,\n",
        "          verbose=1,\n",
        "          validation_data=(test_images, test_labels)\n",
        "          )"
      ],
      "execution_count": 37,
      "outputs": [
        {
          "output_type": "stream",
          "name": "stdout",
          "text": [
            "Epoch 1/10\n",
            "938/938 [==============================] - 10s 11ms/step - loss: 2.1462 - accuracy: 0.7257 - val_loss: 0.6723 - val_accuracy: 0.7631\n",
            "Epoch 2/10\n",
            "938/938 [==============================] - 9s 10ms/step - loss: 0.9184 - accuracy: 0.6568 - val_loss: 0.8040 - val_accuracy: 0.7044\n",
            "Epoch 3/10\n",
            "938/938 [==============================] - 10s 10ms/step - loss: 0.7006 - accuracy: 0.7414 - val_loss: 0.6324 - val_accuracy: 0.7735\n",
            "Epoch 4/10\n",
            "938/938 [==============================] - 9s 9ms/step - loss: 0.5840 - accuracy: 0.7827 - val_loss: 0.6130 - val_accuracy: 0.7672\n",
            "Epoch 5/10\n",
            "938/938 [==============================] - 9s 10ms/step - loss: 0.5774 - accuracy: 0.7852 - val_loss: 0.5996 - val_accuracy: 0.7805\n",
            "Epoch 6/10\n",
            "938/938 [==============================] - 9s 10ms/step - loss: 0.6756 - accuracy: 0.7512 - val_loss: 0.7096 - val_accuracy: 0.7371\n",
            "Epoch 7/10\n",
            "938/938 [==============================] - 9s 10ms/step - loss: 0.7572 - accuracy: 0.7226 - val_loss: 0.6827 - val_accuracy: 0.7554\n",
            "Epoch 8/10\n",
            "938/938 [==============================] - 9s 10ms/step - loss: 0.6173 - accuracy: 0.7737 - val_loss: 0.6229 - val_accuracy: 0.7644\n",
            "Epoch 9/10\n",
            "938/938 [==============================] - 9s 10ms/step - loss: 0.6654 - accuracy: 0.7587 - val_loss: 1.1168 - val_accuracy: 0.5987\n",
            "Epoch 10/10\n",
            "938/938 [==============================] - 9s 9ms/step - loss: 1.0505 - accuracy: 0.5926 - val_loss: 0.7851 - val_accuracy: 0.7195\n"
          ]
        },
        {
          "output_type": "execute_result",
          "data": {
            "text/plain": [
              "<keras.callbacks.History at 0x7f0ec77f1ad0>"
            ]
          },
          "metadata": {},
          "execution_count": 37
        }
      ]
    },
    {
      "cell_type": "code",
      "metadata": {
        "id": "y4lC-g5Gn_M_"
      },
      "source": [
        "probability=model.predict(train_images[0:10])"
      ],
      "execution_count": 38,
      "outputs": []
    },
    {
      "cell_type": "code",
      "metadata": {
        "colab": {
          "base_uri": "https://localhost:8080/"
        },
        "id": "nIVWb1tEsUeR",
        "outputId": "e38c7350-042b-4cc5-adf1-1695e456c36e"
      },
      "source": [
        "probability[6]  # Probabiliity values for img"
      ],
      "execution_count": 39,
      "outputs": [
        {
          "output_type": "execute_result",
          "data": {
            "text/plain": [
              "array([5.8266902e-10, 7.5758063e-13, 1.5368737e-10, 9.0024550e-08,\n",
              "       1.7632043e-10, 3.1812742e-04, 6.4448821e-11, 9.9966359e-01,\n",
              "       7.6030624e-06, 1.0486694e-05], dtype=float32)"
            ]
          },
          "metadata": {},
          "execution_count": 39
        }
      ]
    },
    {
      "cell_type": "code",
      "metadata": {
        "colab": {
          "base_uri": "https://localhost:8080/"
        },
        "id": "BIRWywIysUhT",
        "outputId": "733fda41-c0e3-462a-ed9e-a8685b25ac50"
      },
      "source": [
        "argmax=np.argmax(probability,axis=1)\n",
        "argmax"
      ],
      "execution_count": 40,
      "outputs": [
        {
          "output_type": "execute_result",
          "data": {
            "text/plain": [
              "array([9, 0, 3, 0, 1, 2, 7, 2, 5, 5])"
            ]
          },
          "metadata": {},
          "execution_count": 40
        }
      ]
    },
    {
      "cell_type": "code",
      "metadata": {
        "colab": {
          "base_uri": "https://localhost:8080/"
        },
        "id": "SvtpwmkYsUkJ",
        "outputId": "936ea901-6a7d-4db5-8a17-619095e1d80e"
      },
      "source": [
        "class_names"
      ],
      "execution_count": 41,
      "outputs": [
        {
          "output_type": "execute_result",
          "data": {
            "text/plain": [
              "['T-shirt/top',\n",
              " 'Trouser',\n",
              " 'Pullover',\n",
              " 'Dress',\n",
              " 'Coat',\n",
              " 'Sandal',\n",
              " 'Shirt',\n",
              " 'Sneaker',\n",
              " 'Bag',\n",
              " 'Ankle boot']"
            ]
          },
          "metadata": {},
          "execution_count": 41
        }
      ]
    },
    {
      "cell_type": "code",
      "metadata": {
        "colab": {
          "base_uri": "https://localhost:8080/",
          "height": 265
        },
        "id": "i2pPPQsKsUnA",
        "outputId": "b4793342-695d-4eca-dda2-f5fae8890093"
      },
      "source": [
        "plot.figure()\n",
        "plot.imshow(train_images[6])\n",
        "plot.colorbar()\n",
        "plot.grid(False)\n",
        "plot.show()"
      ],
      "execution_count": 42,
      "outputs": [
        {
          "output_type": "display_data",
          "data": {
            "image/png": "[encoded data removed]",
            "text/plain": [
              "<Figure size 432x288 with 2 Axes>"
            ]
          },
          "metadata": {
            "needs_background": "light"
          }
        }
      ]
    },
    {
      "cell_type": "code",
      "metadata": {
        "colab": {
          "base_uri": "https://localhost:8080/"
        },
        "id": "zv2nKfcLsUps",
        "outputId": "da887ada-b050-4b8e-c360-4eac805c02ea"
      },
      "source": [
        "print('Predicted value :' ,class_names[argmax[6]])  # precdiction"
      ],
      "execution_count": 43,
      "outputs": [
        {
          "output_type": "stream",
          "name": "stdout",
          "text": [
            "Predicted value : Sneaker\n"
          ]
        }
      ]
    },
    {
      "cell_type": "code",
      "metadata": {
        "colab": {
          "base_uri": "https://localhost:8080/"
        },
        "id": "4fWVIzezsUs1",
        "outputId": "d7d61afc-de1c-4f7d-b091-43d3a996bb1b"
      },
      "source": [
        "print('Actual value :' ,class_names[train_labels[6]])  #ground truth"
      ],
      "execution_count": 44,
      "outputs": [
        {
          "output_type": "stream",
          "name": "stdout",
          "text": [
            "Actual value : Sneaker\n"
          ]
        }
      ]
    },
    {
      "cell_type": "code",
      "metadata": {
        "id": "0xRdHahCtGL7"
      },
      "source": [
        "def plot_image(i, predictions_array, true_label, img):\n",
        "  true_label, img = true_label[i], img[i]\n",
        "  plot.grid(False)\n",
        "  plot.xticks([])\n",
        "  plot.yticks([])\n",
        "\n",
        "  plot.imshow(img, cmap=plot.cm.binary)\n",
        "\n",
        "  predicted_label = np.argmax(predictions_array)\n",
        "  if predicted_label == true_label:\n",
        "    color = 'blue'\n",
        "  else:\n",
        "    color = 'red'\n",
        "\n",
        "  plot.xlabel(\"{} {:2.0f}% ({})\".format(class_names[predicted_label],\n",
        "                                100*np.max(predictions_array),\n",
        "                                class_names[true_label]),\n",
        "                                color=color)\n",
        "\n",
        "def plot_value_array(i, predictions_array, true_label):\n",
        "  true_label = true_label[i]\n",
        "  plot.grid(False)\n",
        "  plot.xticks(range(10))\n",
        "  plot.yticks([])\n",
        "  thisplot = plot.bar(range(10), predictions_array, color=\"#777777\")\n",
        "  plot.ylim([0, 1])\n",
        "  predicted_label = np.argmax(predictions_array)\n",
        "\n",
        "  thisplot[predicted_label].set_color('red')\n",
        "  thisplot[true_label].set_color('blue')"
      ],
      "execution_count": 45,
      "outputs": []
    },
    {
      "cell_type": "code",
      "metadata": {
        "colab": {
          "base_uri": "https://localhost:8080/",
          "height": 211
        },
        "id": "3arL6f4UtIqx",
        "outputId": "462170da-f95e-4239-8361-508f7305e99a"
      },
      "source": [
        "i = 0\n",
        "plot.figure(figsize=(6,3))\n",
        "plot.subplot(1,2,1)\n",
        "plot_image(i, probability[i], test_labels, test_images)\n",
        "plot.subplot(1,2,2)\n",
        "plot_value_array(i, probability[i],  test_labels)\n",
        "plot.show()"
      ],
      "execution_count": 46,
      "outputs": [
        {
          "output_type": "display_data",
          "data": {
            "image/png": "[encoded data removed]",
            "text/plain": [
              "<Figure size 432x216 with 2 Axes>"
            ]
          },
          "metadata": {
            "needs_background": "light"
          }
        }
      ]
    },
    {
      "cell_type": "code",
      "metadata": {
        "colab": {
          "base_uri": "https://localhost:8080/",
          "height": 211
        },
        "id": "igfQ1RDdtJ55",
        "outputId": "a081eede-3981-42c1-bb71-17db0e250997"
      },
      "source": [
        "i = 9\n",
        "plot.figure(figsize=(6,3))\n",
        "plot.subplot(1,2,1)\n",
        "plot_image(i, probability[i], test_labels, test_images)\n",
        "plot.subplot(1,2,2)\n",
        "plot_value_array(i, probability[i],  test_labels)\n",
        "plot.show()"
      ],
      "execution_count": 47,
      "outputs": [
        {
          "output_type": "display_data",
          "data": {
            "image/png": "[encoded data removed]",
            "text/plain": [
              "<Figure size 432x216 with 2 Axes>"
            ]
          },
          "metadata": {
            "needs_background": "light"
          }
        }
      ]
    },
    {
      "cell_type": "code",
      "metadata": {
        "colab": {
          "base_uri": "https://localhost:8080/",
          "height": 441
        },
        "id": "trdtID7ttJ8v",
        "outputId": "41e995e6-2cd5-4775-c983-8aa32b33897d"
      },
      "source": [
        "# Plot the first X test images, their predicted labels, and the true labels.\n",
        "# Color correct predictions in blue and incorrect predictions in red.\n",
        "num_rows = 3\n",
        "num_cols = 3\n",
        "num_images = num_rows*num_cols\n",
        "plot.figure(figsize=(2*2*num_cols, 2*num_rows))\n",
        "for i in range(num_images):\n",
        "  plot.subplot(num_rows, 2*num_cols, 2*i+1)\n",
        "  plot_image(i, probability[i], test_labels, test_images)\n",
        "  plot.subplot(num_rows, 2*num_cols, 2*i+2)\n",
        "  plot_value_array(i, probability[i], test_labels)\n",
        "plot.tight_layout()\n",
        "plot.show()"
      ],
      "execution_count": 48,
      "outputs": [
        {
          "output_type": "display_data",
          "data": {
            "image/png": "[encoded data removed]",
            "text/plain": [
              "<Figure size 864x432 with 18 Axes>"
            ]
          },
          "metadata": {
            "needs_background": "light"
          }
        }
      ]
    },
    {
      "cell_type": "code",
      "metadata": {
        "id": "u86RjFyytvgJ"
      },
      "source": [
        "#Question 3: Compare the performance of the LSTM RNN network vs CNN.\n",
        "\n",
        "#           RNN can model sequences of data so that each sample can be assumed to be dependent on previous ones.\n",
        "#           CNNs are commonly used in solving problems related to spatial data, such as images.RNNs are better suited to analyzing temporal, sequential data, such\n",
        "#           as text or videos.\n",
        "#           CNNs are \"feed-forward neural networks\" that use filters and pooling layers,whereas RNNs feed results back into the network.\n",
        "#           In CNNs, the size of the input and the resulting output are fixed. That is, a CNN receives images of fixed size and outputs them to the appropriate level,\n",
        "#           along with the confidence level of its prediction.In RNNs, the size of the input and the resulting output may vary.\n",
        "#           CNN is faster than RNN, because CNN is nothing to have store in a memory as RNN.\n",
        "\n",
        "#  To achieve the same test performance CNN is taking less time than LSTM RNN.As CNN are good for fixed length input data like images, facial recognition, medical \n",
        "#  analysis and classification.\n",
        "#  LSTM RNN is good for text translation, natural language processing, sentiment analysis and speech analysis. Training the RNN is a very difficult task.\n",
        "#  It cannot process very long sequences if using tanh or relu as an activation function. \n",
        "#  In LSTM ,Pre-processing can increase the score by providing high-quality input data. Cross Validation detects and prevents overfitting and the decrease of score caused by overfitting. \n",
        "\n",
        "\n",
        "\n",
        "\n",
        "\n",
        "\n",
        "\n",
        "          "
      ],
      "execution_count": null,
      "outputs": []
    },
    {
      "cell_type": "code",
      "metadata": {
        "id": "ITcl35retvjJ"
      },
      "source": [
        ""
      ],
      "execution_count": null,
      "outputs": []
    },
    {
      "cell_type": "code",
      "metadata": {
        "id": "XkGKdM4Ntvl6"
      },
      "source": [
        ""
      ],
      "execution_count": null,
      "outputs": []
    }
  ]
}